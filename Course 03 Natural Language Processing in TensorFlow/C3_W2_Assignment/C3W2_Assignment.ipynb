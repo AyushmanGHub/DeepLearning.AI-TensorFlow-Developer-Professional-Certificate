{
 "cells": [
  {
   "cell_type": "markdown",
   "id": "5639149e",
   "metadata": {},
   "source": [
    "# Week 2: Diving deeper into the BBC News archive\n",
    "\n",
    "Welcome! In this assignment you will be revisiting the [BBC News Classification Dataset](https://www.kaggle.com/c/learn-ai-bbc/overview), which contains 2225 examples of news articles with their respective labels. \n",
    "\n",
    "This time you will not only work with the tokenization process but you will also create a classifier using specialized layers for text data such as Embedding and GlobalAveragePooling1D.\n",
    "\n",
    "Let's get started!"
   ]
  },
  {
   "cell_type": "code",
   "execution_count": 28,
   "id": "e12cf593",
   "metadata": {},
   "outputs": [],
   "source": [
    "# import pandas as pd\n",
    "\n",
    "# # Load the first CSV file\n",
    "# csv_file1 = r\"C:\\Users\\ayush\\Downloads\\Course 03 Natural Language Processing in TensorFlow\\Week1dataset\\BBC News Test.csv\" # Replace with your file path\n",
    "# csv_file2 = r\"C:\\Users\\ayush\\Downloads\\Course 03 Natural Language Processing in TensorFlow\\Week1dataset\\BBC News Train.csv\"  # Replace with your file path\n",
    "\n",
    "# # Read both files into DataFrames\n",
    "# df1 = pd.read_csv(csv_file1)\n",
    "# df2 = pd.read_csv(csv_file2)\n",
    "\n",
    "# # Merge the DataFrames (combine them row-wise)\n",
    "# merged_df = pd.concat([df1, df2], ignore_index=True)\n",
    "\n",
    "# # Save the merged DataFrame to a new CSV file\n",
    "# merged_csv_file = r\"C:\\Users\\ayush\\Downloads\\Course 03 Natural Language Processing in TensorFlow\\Week1dataset\\merged_file.csv\"  # Output file path\n",
    "# merged_df.to_csv(merged_csv_file, index=False)\n",
    "\n",
    "# print(f\"Merged CSV saved to: {merged_csv_file}\")\n"
   ]
  },
  {
   "cell_type": "code",
   "execution_count": 29,
   "id": "b5260708",
   "metadata": {
    "id": "gnwiOnGyW5JK"
   },
   "outputs": [],
   "source": [
    "import io\n",
    "import csv\n",
    "import tensorflow as tf\n",
    "import numpy as np\n",
    "from tensorflow.keras.preprocessing.text import Tokenizer\n",
    "from tensorflow.keras.preprocessing.sequence import pad_sequences\n",
    "import matplotlib.pyplot as plt"
   ]
  },
  {
   "cell_type": "markdown",
   "id": "3d862bec",
   "metadata": {},
   "source": [
    "You probably remember structure of the csv that contains the data from last week, but in case you need a reminder run the next cell:"
   ]
  },
  {
   "cell_type": "code",
   "execution_count": 30,
   "id": "e0626490",
   "metadata": {},
   "outputs": [
    {
     "name": "stdout",
     "output_type": "stream",
     "text": [
      "First line (header) looks like this:\n",
      "\n",
      "ArticleId,Text,Category\n",
      "\n",
      "Each data point looks like this:\n",
      "\n",
      "1018,qpr keeper day heads for preston queens park rangers keeper chris day is set to join preston on a month s loan.  day has been displaced by the arrival of simon royce  who is in his second month on loan from charlton. qpr have also signed italian generoso rossi. r s manager ian holloway said:  some might say it s a risk as he can t be recalled during that month and simon royce can now be recalled by charlton.  but i have other irons in the fire. i have had a  yes  from a couple of others should i need them.   day s rangers contract expires in the summer. meanwhile  holloway is hoping to complete the signing of middlesbrough defender andy davies - either permanently or again on loan - before saturday s match at ipswich. davies impressed during a recent loan spell at loftus road. holloway is also chasing bristol city midfielder tom doherty.,sport\n",
      "\n"
     ]
    }
   ],
   "source": [
    "with open(r\"C:\\Users\\ayush\\Downloads\\Course 03 Natural Language Processing in TensorFlow\\Week1dataset\\merged_file.csv\", 'r') as csvfile:\n",
    "    print(f\"First line (header) looks like this:\\n\\n{csvfile.readline()}\")\n",
    "    print(f\"Each data point looks like this:\\n\\n{csvfile.readline()}\")"
   ]
  },
  {
   "cell_type": "markdown",
   "id": "7ee4f7f3",
   "metadata": {},
   "source": [
    "As you can see, each data point is composed of the category of the news article followed by a comma and then the actual text of the article."
   ]
  },
  {
   "cell_type": "markdown",
   "id": "485c838f",
   "metadata": {},
   "source": [
    "## Defining useful global variables\n",
    "\n",
    "Next you will define some global variables that will be used throughout the assignment. \n",
    "\n",
    "- `NUM_WORDS`: The maximum number of words to keep, based on word frequency. Defaults to 1000.\n",
    "\n",
    "\n",
    "- `EMBEDDING_DIM`: Dimension of the dense embedding, will be used in the embedding layer of the model. Defaults to 16.\n",
    "\n",
    "\n",
    "- `MAXLEN`: Maximum length of all sequences. Defaults to 120.\n",
    "\n",
    "\n",
    "- `PADDING`: Padding strategy (pad either before or after each sequence.). Defaults to 'post'.\n",
    "\n",
    "\n",
    "- `OOV_TOKEN`: Token to replace out-of-vocabulary words during text_to_sequence calls. Defaults to \"\\<OOV>\".\n",
    "\n",
    "    \n",
    "- `TRAINING_SPLIT`: Proportion of data used for training. Defaults to 0.8\n",
    "\n",
    "**For now leave them unchanged but after submitting your assignment for grading you are encouraged to come back here and play with these parameters to see the impact they have in the classification process**"
   ]
  },
  {
   "cell_type": "code",
   "execution_count": 31,
   "id": "44266724",
   "metadata": {},
   "outputs": [],
   "source": [
    "NUM_WORDS = 1000\n",
    "EMBEDDING_DIM = 16\n",
    "MAXLEN = 120\n",
    "PADDING = 'post'\n",
    "OOV_TOKEN = \"<OOV>\"\n",
    "TRAINING_SPLIT = .8"
   ]
  },
  {
   "cell_type": "markdown",
   "id": "f25e9364",
   "metadata": {},
   "source": [
    "## Loading and pre-processing the data\n",
    "\n",
    "Now you should code the functions to remove stopwords from text and to load the data from a csv file.\n",
    "\n",
    "Since you already coded these functions for the previous week, these are provided for you."
   ]
  },
  {
   "cell_type": "code",
   "execution_count": 32,
   "id": "8039b079",
   "metadata": {},
   "outputs": [],
   "source": [
    "def remove_stopwords(sentence):\n",
    "    # List of stopwords\n",
    "    stopwords = [\"a\", \"about\", \"above\", \"after\", \"again\", \"against\", \"all\", \"am\", \"an\", \"and\", \"any\", \"are\", \"as\", \"at\", \"be\", \"because\", \"been\", \"before\", \"being\", \"below\", \"between\", \"both\", \"but\", \"by\", \"could\", \"did\", \"do\", \"does\", \"doing\", \"down\", \"during\", \"each\", \"few\", \"for\", \"from\", \"further\", \"had\", \"has\", \"have\", \"having\", \"he\", \"he'd\", \"he'll\", \"he's\", \"her\", \"here\", \"here's\", \"hers\", \"herself\", \"him\", \"himself\", \"his\", \"how\", \"how's\", \"i\", \"i'd\", \"i'll\", \"i'm\", \"i've\", \"if\", \"in\", \"into\", \"is\", \"it\", \"it's\", \"its\", \"itself\", \"let's\", \"me\", \"more\", \"most\", \"my\", \"myself\", \"nor\", \"of\", \"on\", \"once\", \"only\", \"or\", \"other\", \"ought\", \"our\", \"ours\", \"ourselves\", \"out\", \"over\", \"own\", \"same\", \"she\", \"she'd\", \"she'll\", \"she's\", \"should\", \"so\", \"some\", \"such\", \"than\", \"that\", \"that's\", \"the\", \"their\", \"theirs\", \"them\", \"themselves\", \"then\", \"there\", \"there's\", \"these\", \"they\", \"they'd\", \"they'll\", \"they're\", \"they've\", \"this\", \"those\", \"through\", \"to\", \"too\", \"under\", \"until\", \"up\", \"very\", \"was\", \"we\", \"we'd\", \"we'll\", \"we're\", \"we've\", \"were\", \"what\", \"what's\", \"when\", \"when's\", \"where\", \"where's\", \"which\", \"while\", \"who\", \"who's\", \"whom\", \"why\", \"why's\", \"with\", \"would\", \"you\", \"you'd\", \"you'll\", \"you're\", \"you've\", \"your\", \"yours\", \"yourself\", \"yourselves\" ]\n",
    "    \n",
    "    # Sentence converted to lowercase-only\n",
    "    sentence = sentence.lower()\n",
    "\n",
    "    words = sentence.split()\n",
    "    no_words = [w for w in words if w not in stopwords]\n",
    "    sentence = \" \".join(no_words)\n",
    "\n",
    "    return sentence\n",
    "\n",
    "\n",
    "def parse_data_from_file(filename):\n",
    "    sentences = []\n",
    "    labels = []\n",
    "    with open(filename, 'r') as csvfile:\n",
    "        reader = csv.reader(csvfile, delimiter=',')\n",
    "        next(reader)\n",
    "        for row in reader:\n",
    "            labels.append(row[2])\n",
    "            sentence = row[1]\n",
    "            sentence = remove_stopwords(sentence)\n",
    "            sentences.append(sentence)\n",
    "\n",
    "    return sentences, labels"
   ]
  },
  {
   "cell_type": "code",
   "execution_count": 34,
   "id": "5565105f",
   "metadata": {},
   "outputs": [
    {
     "name": "stdout",
     "output_type": "stream",
     "text": [
      "There are 2225 sentences in the dataset.\n",
      "\n",
      "First sentence has 98 words (after removing stopwords).\n",
      "\n",
      "There are 2225 labels in the dataset.\n",
      "\n",
      "The first 5 labels are ['sport', 'tech', 'business', 'entertainment', 'politics']\n"
     ]
    }
   ],
   "source": [
    "# Test the functions\n",
    "sentences, labels = parse_data_from_file(r\"C:\\Users\\ayush\\Downloads\\Course 03 Natural Language Processing in TensorFlow\\Week1dataset\\merged_file.csv\")\n",
    "\n",
    "print(f\"There are {len(sentences)} sentences in the dataset.\\n\")\n",
    "print(f\"First sentence has {len(sentences[0].split())} words (after removing stopwords).\\n\")\n",
    "print(f\"There are {len(labels)} labels in the dataset.\\n\")\n",
    "print(f\"The first 5 labels are {labels[:5]}\")"
   ]
  },
  {
   "cell_type": "markdown",
   "id": "2d670a6d",
   "metadata": {},
   "source": [
    "***Expected Output:***\n",
    "\n",
    "```\n",
    "There are 2225 sentences in the dataset.\n",
    "\n",
    "First sentence has 436 words (after removing stopwords).\n",
    "\n",
    "There are 2225 labels in the dataset.\n",
    "\n",
    "The first 5 labels are ['tech', 'business', 'sport', 'sport', 'entertainment']\n",
    "```"
   ]
  },
  {
   "cell_type": "markdown",
   "id": "011b39db",
   "metadata": {},
   "source": [
    "## Training - Validation Split\n",
    "\n",
    "Now you will code the `train_val_split`, which given the list of sentences, the list of labels and the proportion of data for the training set, should return the training and validation sentences and labels:"
   ]
  },
  {
   "cell_type": "code",
   "execution_count": 35,
   "id": "9ce4e6fc",
   "metadata": {},
   "outputs": [],
   "source": [
    "# GRADED FUNCTIONS: train_val_split\n",
    "def train_val_split(sentences, labels, training_split):\n",
    "    \n",
    "    ### START CODE HERE\n",
    "    \n",
    "    # Compute the number of sentences that will be used for training (should be an integer)\n",
    "    train_size = int(len(sentences)*training_split)\n",
    "\n",
    "    # Split the sentences and labels into train/validation splits\n",
    "    train_sentences = sentences[:train_size]\n",
    "    train_labels = labels[:train_size]\n",
    "\n",
    "    validation_sentences = sentences[train_size:]\n",
    "    validation_labels = labels[train_size:]\n",
    "    \n",
    "    ### END CODE HERE\n",
    "    \n",
    "    return train_sentences, validation_sentences, train_labels, validation_labels"
   ]
  },
  {
   "cell_type": "code",
   "execution_count": 36,
   "id": "04c9c0f9",
   "metadata": {},
   "outputs": [
    {
     "name": "stdout",
     "output_type": "stream",
     "text": [
      "There are 1780 sentences for training.\n",
      "\n",
      "There are 1780 labels for training.\n",
      "\n",
      "There are 445 sentences for validation.\n",
      "\n",
      "There are 445 labels for validation.\n"
     ]
    }
   ],
   "source": [
    "# Test your function\n",
    "train_sentences, val_sentences, train_labels, val_labels = train_val_split(sentences, labels, TRAINING_SPLIT)\n",
    "\n",
    "print(f\"There are {len(train_sentences)} sentences for training.\\n\")\n",
    "print(f\"There are {len(train_labels)} labels for training.\\n\")\n",
    "print(f\"There are {len(val_sentences)} sentences for validation.\\n\")\n",
    "print(f\"There are {len(val_labels)} labels for validation.\")"
   ]
  },
  {
   "cell_type": "markdown",
   "id": "299615ef",
   "metadata": {},
   "source": [
    "***Expected Output:***\n",
    "\n",
    "```\n",
    "There are 1780 sentences for training.\n",
    "\n",
    "There are 1780 labels for training.\n",
    "\n",
    "There are 445 sentences for validation.\n",
    "\n",
    "There are 445 labels for validation.\n",
    "```"
   ]
  },
  {
   "cell_type": "markdown",
   "id": "3ac98dde",
   "metadata": {},
   "source": [
    "## Tokenization - Sequences and padding\n",
    "\n",
    "Now that you have sets for training and validation it is time for you to begin the tokenization process.\n",
    "\n",
    "Begin by completing the `fit_tokenizer` function below. This function should return a [Tokenizer](https://www.tensorflow.org/api_docs/python/tf/keras/preprocessing/text/Tokenizer) that has been fitted to the training sentences."
   ]
  },
  {
   "cell_type": "code",
   "execution_count": 37,
   "id": "2e202298",
   "metadata": {
    "lines_to_next_cell": 2
   },
   "outputs": [],
   "source": [
    "# GRADED FUNCTION: fit_tokenizer\n",
    "def fit_tokenizer(train_sentences, num_words, oov_token):\n",
    "    \n",
    "    ### START CODE HERE\n",
    "    \n",
    "    # Instantiate the Tokenizer class, passing in the correct values for num_words and oov_token\n",
    "    tokenizer = Tokenizer(num_words=num_words, oov_token=oov_token)\n",
    "    \n",
    "    # Fit the tokenizer to the training sentences\n",
    "    tokenizer.fit_on_texts(train_sentences)\n",
    "    \n",
    "    \n",
    "    ### END CODE HERE\n",
    "    \n",
    "    return tokenizer"
   ]
  },
  {
   "cell_type": "code",
   "execution_count": 38,
   "id": "82caa2fa",
   "metadata": {},
   "outputs": [
    {
     "name": "stdout",
     "output_type": "stream",
     "text": [
      "Vocabulary contains 27277 words\n",
      "\n",
      "<OOV> token included in vocabulary\n"
     ]
    }
   ],
   "source": [
    "# Test your function\n",
    "tokenizer = fit_tokenizer(train_sentences, NUM_WORDS, OOV_TOKEN)\n",
    "word_index = tokenizer.word_index\n",
    "\n",
    "print(f\"Vocabulary contains {len(word_index)} words\\n\")\n",
    "print(\"<OOV> token included in vocabulary\" if \"<OOV>\" in word_index else \"<OOV> token NOT included in vocabulary\")"
   ]
  },
  {
   "cell_type": "markdown",
   "id": "5fa2c67b",
   "metadata": {},
   "source": [
    "***Expected Output:***\n",
    "\n",
    "```\n",
    "Vocabulary contains 27285 words\n",
    "\n",
    "<OOV> token included in vocabulary\n",
    "```"
   ]
  },
  {
   "cell_type": "markdown",
   "id": "0450b0d6",
   "metadata": {},
   "source": [
    "Now that the tokenizer has been fitted to the training data, you need a function that will convert each text data point into its padded sequence representation, for this complete the `seq_and_pad` function below:"
   ]
  },
  {
   "cell_type": "code",
   "execution_count": 39,
   "id": "9d19335a",
   "metadata": {},
   "outputs": [],
   "source": [
    "# GRADED FUNCTION: seq_and_pad\n",
    "def seq_and_pad(sentences, tokenizer, padding, maxlen):\n",
    "    \n",
    "    ### START CODE HERE\n",
    "       \n",
    "    # Convert sentences to sequences\n",
    "    sequences = tokenizer.texts_to_sequences(sentences)\n",
    "    \n",
    "    # Pad the sequences using the correct padding and maxlen\n",
    "    padded_sequences = pad_sequences(sequences, maxlen=maxlen, padding=padding)\n",
    "    \n",
    "    ### END CODE HERE\n",
    "    \n",
    "    return padded_sequences"
   ]
  },
  {
   "cell_type": "code",
   "execution_count": 40,
   "id": "5339bed7",
   "metadata": {},
   "outputs": [
    {
     "name": "stdout",
     "output_type": "stream",
     "text": [
      "Padded training sequences have shape: (1780, 120)\n",
      "\n",
      "Padded validation sequences have shape: (445, 120)\n"
     ]
    }
   ],
   "source": [
    "# Test your function\n",
    "train_padded_seq = seq_and_pad(train_sentences, tokenizer, PADDING, MAXLEN)\n",
    "val_padded_seq = seq_and_pad(val_sentences, tokenizer, PADDING, MAXLEN)\n",
    "\n",
    "print(f\"Padded training sequences have shape: {train_padded_seq.shape}\\n\")\n",
    "print(f\"Padded validation sequences have shape: {val_padded_seq.shape}\")"
   ]
  },
  {
   "cell_type": "markdown",
   "id": "ebe67494",
   "metadata": {},
   "source": [
    "***Expected Output:***\n",
    "\n",
    "```\n",
    "Padded training sequences have shape: (1780, 120)\n",
    "\n",
    "Padded validation sequences have shape: (445, 120)\n",
    "```"
   ]
  },
  {
   "cell_type": "markdown",
   "id": "0599d0dc",
   "metadata": {},
   "source": [
    "Finally you need to tokenize the labels. For this complete the `tokenize_labels` function below.\n",
    "\n",
    "A couple of things to note:\n",
    "- You should fit the tokenizer to all the labels to avoid the case of a particular label not being present in the validation set. Since you are dealing with labels there should never be an OOV label.\n",
    "\n",
    "\n",
    "- In the previous function you used the `pad_sequences` function which returns numpy arrays. Here you will not be using it since you don't need to pad the labels so you need to make the conversion to numpy arrays yourself.\n",
    "\n",
    "\n",
    "- The argument `split_labels` refers to the labels of a particular split (train or validation). This is because the function should work independently of the split being used.\n",
    "\n",
    "\n",
    "- Using Keras' Tokenizer yields values that start at 1 rather than at 0. This will present a problem when training since Keras usually expects the labels to start at 0. To work around this issue you could use an extra neuron in the last layer of your model. However this approach is rather hacky and not very clear. Instead you will substract 1 from every value of the labels that the function returns. Remember that when using numpy arrays you can simply do something like `np.array - 1` to accomplish this since numpy allows for vectorized operations."
   ]
  },
  {
   "cell_type": "code",
   "execution_count": 41,
   "id": "ac9156a2",
   "metadata": {
    "id": "XkWiQ_FKZNp2",
    "lines_to_next_cell": 2
   },
   "outputs": [],
   "source": [
    "# GRADED FUNCTION: tokenize_labels\n",
    "def tokenize_labels(all_labels, split_labels):\n",
    "    \n",
    "    ### START CODE HERE\n",
    "    \n",
    "    # Instantiate the Tokenizer (no additional arguments needed)\n",
    "    label_tokenizer = Tokenizer()\n",
    "    \n",
    "    # Fit the tokenizer on all the labels\n",
    "    label_tokenizer.fit_on_texts(all_labels)\n",
    "    \n",
    "    # Convert labels to sequences\n",
    "    label_seq = label_tokenizer.texts_to_sequences(split_labels)\n",
    "    \n",
    "    # Convert sequences to a numpy array. Don't forget to substact 1 from every entry in the array!\n",
    "    label_seq_np = np.array(label_seq) - 1\n",
    "    \n",
    "    ### END CODE HERE\n",
    "    \n",
    "    return label_seq_np"
   ]
  },
  {
   "cell_type": "code",
   "execution_count": 42,
   "id": "638802ca",
   "metadata": {},
   "outputs": [
    {
     "name": "stdout",
     "output_type": "stream",
     "text": [
      "['sport', 'tech', 'business', 'entertainment', 'politics', 'sport', 'tech', 'business', 'entertainment', 'politics', 'sport', 'tech', 'business', 'entertainment', 'politics', 'sport', 'tech', 'business', 'entertainment', 'politics', 'sport', 'tech', 'business', 'entertainment', 'politics', 'sport', 'tech', 'business', 'entertainment', 'politics', 'sport', 'tech', 'business', 'entertainment', 'politics', 'sport', 'tech', 'business', 'entertainment', 'politics', 'sport', 'tech', 'business', 'entertainment', 'politics', 'sport', 'tech', 'business', 'entertainment', 'politics', 'sport', 'tech', 'business', 'entertainment', 'politics', 'sport', 'tech', 'business', 'entertainment', 'politics', 'sport', 'tech', 'business', 'entertainment', 'politics', 'sport', 'tech', 'business', 'entertainment', 'politics', 'sport', 'tech', 'business', 'entertainment', 'politics', 'sport', 'tech', 'business', 'entertainment', 'politics', 'sport', 'tech', 'business', 'entertainment', 'politics', 'sport', 'tech', 'business', 'entertainment', 'politics', 'sport', 'tech', 'business', 'entertainment', 'politics', 'sport', 'tech', 'business', 'entertainment', 'politics', 'sport', 'tech', 'business', 'entertainment', 'politics', 'sport', 'tech', 'business', 'entertainment', 'politics', 'sport', 'tech', 'business', 'entertainment', 'politics', 'sport', 'tech', 'business', 'entertainment', 'politics', 'sport', 'tech', 'business', 'entertainment', 'politics', 'sport', 'tech', 'business', 'entertainment', 'politics', 'sport', 'tech', 'business', 'entertainment', 'politics', 'sport', 'tech', 'business', 'entertainment', 'politics', 'sport', 'tech', 'business', 'entertainment', 'politics', 'sport', 'tech', 'business', 'entertainment', 'politics', 'sport', 'tech', 'business', 'entertainment', 'politics', 'sport', 'tech', 'business', 'entertainment', 'politics', 'sport', 'tech', 'business', 'entertainment', 'politics', 'sport', 'tech', 'business', 'entertainment', 'politics', 'sport', 'tech', 'business', 'entertainment', 'politics', 'sport', 'tech', 'business', 'entertainment', 'politics', 'sport', 'tech', 'business', 'entertainment', 'politics', 'sport', 'tech', 'business', 'entertainment', 'politics', 'sport', 'tech', 'business', 'entertainment', 'politics', 'sport', 'tech', 'business', 'entertainment', 'politics', 'sport', 'tech', 'business', 'entertainment', 'politics', 'sport', 'tech', 'business', 'entertainment', 'politics', 'sport', 'tech', 'business', 'entertainment', 'politics', 'sport', 'tech', 'business', 'entertainment', 'politics', 'sport', 'tech', 'business', 'entertainment', 'politics', 'sport', 'tech', 'business', 'entertainment', 'politics', 'sport', 'tech', 'business', 'entertainment', 'politics', 'sport', 'tech', 'business', 'entertainment', 'politics', 'sport', 'tech', 'business', 'entertainment', 'politics', 'sport', 'tech', 'business', 'entertainment', 'politics', 'sport', 'tech', 'business', 'entertainment', 'politics', 'sport', 'tech', 'business', 'entertainment', 'politics', 'sport', 'tech', 'business', 'entertainment', 'politics', 'sport', 'tech', 'business', 'entertainment', 'politics', 'sport', 'tech', 'business', 'entertainment', 'politics', 'sport', 'tech', 'business', 'entertainment', 'politics', 'sport', 'tech', 'business', 'entertainment', 'politics', 'sport', 'tech', 'business', 'entertainment', 'politics', 'sport', 'tech', 'business', 'entertainment', 'politics', 'sport', 'tech', 'business', 'entertainment', 'politics', 'sport', 'tech', 'business', 'entertainment', 'politics', 'sport', 'tech', 'business', 'entertainment', 'politics', 'sport', 'tech', 'business', 'entertainment', 'politics', 'sport', 'tech', 'business', 'entertainment', 'politics', 'sport', 'tech', 'business', 'entertainment', 'politics', 'sport', 'tech', 'business', 'entertainment', 'politics', 'sport', 'tech', 'business', 'entertainment', 'politics', 'sport', 'tech', 'business', 'entertainment', 'politics', 'sport', 'tech', 'business', 'entertainment', 'politics', 'sport', 'tech', 'business', 'entertainment', 'politics', 'sport', 'tech', 'business', 'entertainment', 'politics', 'sport', 'tech', 'business', 'entertainment', 'politics', 'sport', 'tech', 'business', 'entertainment', 'politics', 'sport', 'tech', 'business', 'entertainment', 'politics', 'sport', 'tech', 'business', 'entertainment', 'politics', 'sport', 'tech', 'business', 'entertainment', 'politics', 'sport', 'tech', 'business', 'entertainment', 'politics', 'sport', 'tech', 'business', 'entertainment', 'politics', 'sport', 'tech', 'business', 'entertainment', 'politics', 'sport', 'tech', 'business', 'entertainment', 'politics', 'sport', 'tech', 'business', 'entertainment', 'politics', 'sport', 'tech', 'business', 'entertainment', 'politics', 'sport', 'tech', 'business', 'entertainment', 'politics', 'sport', 'tech', 'business', 'entertainment', 'politics', 'sport', 'tech', 'business', 'entertainment', 'politics', 'sport', 'tech', 'business', 'entertainment', 'politics', 'sport', 'tech', 'business', 'entertainment', 'politics', 'sport', 'tech', 'business', 'entertainment', 'politics', 'sport', 'tech', 'business', 'entertainment', 'politics', 'sport', 'tech', 'business', 'entertainment', 'politics', 'sport', 'tech', 'business', 'entertainment', 'politics', 'sport', 'tech', 'business', 'entertainment', 'politics', 'sport', 'tech', 'business', 'entertainment', 'politics', 'sport', 'tech', 'business', 'entertainment', 'politics', 'sport', 'tech', 'business', 'entertainment', 'politics', 'sport', 'tech', 'business', 'entertainment', 'politics', 'sport', 'tech', 'business', 'entertainment', 'politics', 'sport', 'tech', 'business', 'entertainment', 'politics', 'sport', 'tech', 'business', 'entertainment', 'politics', 'sport', 'tech', 'business', 'entertainment', 'politics', 'sport', 'tech', 'business', 'entertainment', 'politics', 'sport', 'tech', 'business', 'entertainment', 'politics', 'sport', 'tech', 'business', 'entertainment', 'politics', 'sport', 'tech', 'business', 'entertainment', 'politics', 'sport', 'tech', 'business', 'entertainment', 'politics', 'sport', 'tech', 'business', 'entertainment', 'politics', 'sport', 'tech', 'business', 'entertainment', 'politics', 'sport', 'tech', 'business', 'entertainment', 'politics', 'sport', 'tech', 'business', 'entertainment', 'politics', 'sport', 'tech', 'business', 'entertainment', 'politics', 'sport', 'tech', 'business', 'entertainment', 'politics', 'sport', 'tech', 'business', 'entertainment', 'politics', 'sport', 'tech', 'business', 'entertainment', 'politics', 'sport', 'tech', 'business', 'entertainment', 'politics', 'sport', 'tech', 'business', 'entertainment', 'politics', 'sport', 'tech', 'business', 'entertainment', 'politics', 'sport', 'tech', 'business', 'entertainment', 'politics', 'sport', 'tech', 'business', 'entertainment', 'politics', 'sport', 'tech', 'business', 'entertainment', 'politics', 'sport', 'tech', 'business', 'entertainment', 'politics', 'sport', 'tech', 'business', 'entertainment', 'politics', 'sport', 'tech', 'business', 'entertainment', 'politics', 'sport', 'tech', 'business', 'entertainment', 'politics', 'sport', 'tech', 'business', 'entertainment', 'politics', 'sport', 'tech', 'business', 'entertainment', 'politics', 'sport', 'tech', 'business', 'entertainment', 'politics', 'sport', 'tech', 'business', 'entertainment', 'politics', 'sport', 'tech', 'business', 'entertainment', 'politics', 'sport', 'tech', 'business', 'entertainment', 'politics', 'sport', 'tech', 'business', 'entertainment', 'politics', 'sport', 'tech', 'business', 'entertainment', 'politics', 'sport', 'tech', 'business', 'entertainment', 'politics', 'sport', 'tech', 'business', 'entertainment', 'politics', 'sport', 'tech', 'business', 'entertainment', 'politics', 'sport', 'tech', 'business', 'entertainment', 'politics', 'sport', 'tech', 'business', 'entertainment', 'politics', 'sport', 'tech', 'business', 'entertainment', 'politics', 'sport', 'tech', 'business', 'entertainment', 'politics', 'sport', 'tech', 'business', 'entertainment', 'politics', 'sport', 'tech', 'business', 'entertainment', 'politics', 'sport', 'tech', 'business', 'entertainment', 'politics', 'sport', 'tech', 'business', 'entertainment', 'politics', 'sport', 'tech', 'business', 'entertainment', 'politics', 'sport', 'tech', 'business', 'entertainment', 'politics', 'sport', 'tech', 'business', 'entertainment', 'politics', 'sport', 'tech', 'business', 'entertainment', 'politics', 'sport', 'tech', 'business', 'entertainment', 'politics', 'business', 'business', 'business', 'tech', 'business', 'politics', 'sport', 'entertainment', 'business', 'entertainment', 'politics', 'entertainment', 'business', 'business', 'sport', 'sport', 'entertainment', 'sport', 'sport', 'tech', 'sport', 'entertainment', 'sport', 'sport', 'tech', 'business', 'tech', 'sport', 'politics', 'business', 'tech', 'entertainment', 'business', 'politics', 'sport', 'entertainment', 'sport', 'sport', 'sport', 'tech', 'tech', 'sport', 'sport', 'tech', 'entertainment', 'entertainment', 'tech', 'tech', 'tech', 'business', 'tech', 'sport', 'politics', 'sport', 'sport', 'entertainment', 'business', 'business', 'politics', 'sport', 'tech', 'business', 'entertainment', 'tech', 'business', 'sport', 'politics', 'politics', 'tech', 'tech', 'sport', 'tech', 'sport', 'sport', 'sport', 'business', 'sport', 'business', 'entertainment', 'business', 'tech', 'business', 'politics', 'politics', 'sport', 'sport', 'politics', 'entertainment', 'sport', 'sport', 'politics', 'tech', 'politics', 'sport', 'politics', 'business', 'business', 'business', 'business', 'sport', 'business', 'politics', 'tech', 'tech', 'entertainment', 'politics', 'tech', 'business', 'business', 'business', 'business', 'entertainment', 'sport', 'business', 'business', 'business', 'politics', 'business', 'politics', 'sport', 'tech', 'sport', 'sport', 'politics', 'tech', 'tech', 'entertainment', 'sport', 'politics', 'business', 'sport', 'business', 'entertainment', 'sport', 'tech', 'entertainment', 'politics', 'business', 'sport', 'entertainment', 'entertainment', 'business', 'business', 'sport', 'tech', 'politics', 'business', 'business', 'sport', 'entertainment', 'sport', 'sport', 'politics', 'politics', 'tech', 'business', 'business', 'entertainment', 'tech', 'entertainment', 'politics', 'tech', 'entertainment', 'sport', 'business', 'politics', 'entertainment', 'sport', 'politics', 'sport', 'tech', 'entertainment', 'sport', 'entertainment', 'business', 'business', 'entertainment', 'politics', 'business', 'sport', 'sport', 'tech', 'sport', 'business', 'business', 'sport', 'business', 'entertainment', 'politics', 'entertainment', 'entertainment', 'tech', 'sport', 'politics', 'sport', 'tech', 'politics', 'sport', 'sport', 'sport', 'sport', 'entertainment', 'sport', 'business', 'tech', 'business', 'politics', 'sport', 'tech', 'business', 'business', 'sport', 'entertainment', 'entertainment', 'politics', 'politics', 'sport', 'politics', 'politics', 'sport', 'entertainment', 'entertainment', 'sport', 'entertainment', 'entertainment', 'sport', 'sport', 'business', 'tech', 'entertainment', 'politics', 'business', 'sport', 'business', 'entertainment', 'business', 'tech', 'sport', 'sport', 'sport', 'sport', 'sport', 'business', 'sport', 'entertainment', 'business', 'politics', 'sport', 'business', 'politics', 'business', 'entertainment', 'sport', 'sport', 'business', 'tech', 'business', 'tech', 'politics', 'tech', 'tech', 'business', 'politics', 'sport', 'entertainment', 'entertainment', 'business', 'entertainment', 'tech', 'entertainment', 'entertainment', 'politics', 'tech', 'sport', 'sport', 'politics', 'sport', 'tech', 'business', 'tech', 'business', 'tech', 'entertainment', 'sport', 'sport', 'sport', 'politics', 'politics', 'sport', 'sport', 'entertainment', 'business', 'tech', 'sport', 'politics', 'tech', 'politics', 'politics', 'tech', 'tech', 'business', 'tech', 'business', 'sport', 'entertainment', 'business', 'sport', 'politics', 'entertainment', 'tech', 'politics', 'business', 'entertainment', 'business', 'tech', 'sport', 'tech', 'sport', 'sport', 'sport', 'politics', 'business', 'politics', 'entertainment', 'sport', 'entertainment', 'business', 'politics', 'business', 'sport', 'entertainment', 'sport', 'business', 'entertainment', 'entertainment', 'sport', 'politics', 'business', 'politics', 'tech', 'entertainment', 'entertainment', 'entertainment', 'tech', 'sport', 'business', 'entertainment', 'entertainment', 'entertainment', 'politics', 'sport', 'politics', 'politics', 'tech', 'politics', 'business', 'politics', 'business', 'sport', 'entertainment', 'business', 'business', 'business', 'sport', 'sport', 'politics', 'politics', 'sport', 'tech', 'tech', 'sport', 'tech', 'entertainment', 'politics', 'tech', 'politics', 'entertainment', 'sport', 'business', 'tech', 'sport', 'business', 'politics', 'entertainment', 'politics', 'sport', 'tech', 'sport', 'business', 'sport', 'tech', 'business', 'politics', 'business', 'sport', 'sport', 'tech', 'tech', 'business', 'business', 'politics', 'politics', 'business', 'entertainment', 'business', 'entertainment', 'sport', 'sport', 'entertainment', 'entertainment', 'business', 'politics', 'business', 'entertainment', 'sport', 'tech', 'entertainment', 'tech', 'entertainment', 'business', 'tech', 'entertainment', 'business', 'business', 'business', 'business', 'entertainment', 'tech', 'tech', 'tech', 'entertainment', 'tech', 'sport', 'entertainment', 'politics', 'tech', 'business', 'sport', 'entertainment', 'sport', 'tech', 'tech', 'business', 'tech', 'sport', 'sport', 'sport', 'entertainment', 'entertainment', 'business', 'entertainment', 'tech', 'tech', 'sport', 'entertainment', 'tech', 'business', 'politics', 'entertainment', 'tech', 'politics', 'sport', 'sport', 'politics', 'politics', 'business', 'sport', 'sport', 'business', 'entertainment', 'entertainment', 'politics', 'business', 'business', 'business', 'business', 'sport', 'business', 'business', 'politics', 'politics', 'tech', 'entertainment', 'politics', 'business', 'tech', 'business', 'business', 'sport', 'tech', 'tech', 'sport', 'entertainment', 'tech', 'tech', 'tech', 'politics', 'tech', 'tech', 'tech', 'business', 'business', 'business', 'tech', 'sport', 'business', 'politics', 'politics', 'entertainment', 'tech', 'politics', 'entertainment', 'entertainment', 'business', 'politics', 'sport', 'sport', 'sport', 'sport', 'politics', 'entertainment', 'business', 'business', 'politics', 'sport', 'entertainment', 'entertainment', 'sport', 'business', 'politics', 'entertainment', 'business', 'sport', 'tech', 'sport', 'sport', 'business', 'tech', 'politics', 'business', 'tech', 'politics', 'politics', 'politics', 'sport', 'business', 'sport', 'entertainment', 'politics', 'tech', 'tech', 'business', 'tech', 'business', 'entertainment', 'entertainment', 'politics', 'business', 'politics', 'business', 'entertainment', 'entertainment', 'business', 'politics', 'business', 'tech', 'business', 'business', 'tech', 'politics', 'business', 'tech', 'business', 'politics', 'entertainment', 'sport', 'entertainment', 'sport', 'entertainment', 'sport', 'business', 'tech', 'tech', 'sport', 'sport', 'business', 'politics', 'tech', 'tech', 'tech', 'business', 'sport', 'business', 'business', 'business', 'business', 'business', 'entertainment', 'tech', 'sport', 'sport', 'politics', 'tech', 'tech', 'business', 'tech', 'business', 'politics', 'entertainment', 'tech', 'business', 'business', 'politics', 'tech', 'entertainment', 'business', 'tech', 'entertainment', 'entertainment', 'sport', 'politics', 'sport', 'business', 'entertainment', 'entertainment', 'business', 'politics', 'business', 'tech', 'tech', 'business', 'entertainment', 'tech', 'tech', 'sport', 'sport', 'entertainment', 'sport', 'entertainment', 'politics', 'entertainment', 'tech', 'entertainment', 'politics', 'politics', 'business', 'business', 'tech', 'sport', 'sport', 'business', 'tech', 'politics', 'politics', 'business', 'entertainment', 'sport', 'sport', 'politics', 'tech', 'sport', 'sport', 'business', 'politics', 'business', 'entertainment', 'tech', 'politics', 'sport', 'sport', 'tech', 'politics', 'business', 'sport', 'politics', 'politics', 'sport', 'business', 'tech', 'politics', 'business', 'tech', 'entertainment', 'business', 'tech', 'politics', 'tech', 'politics', 'entertainment', 'sport', 'sport', 'business', 'business', 'tech', 'sport', 'entertainment', 'entertainment', 'tech', 'politics', 'entertainment', 'business', 'entertainment', 'tech', 'business', 'sport', 'business', 'business', 'business', 'sport', 'sport', 'tech', 'business', 'sport', 'politics', 'sport', 'entertainment', 'business', 'entertainment', 'entertainment', 'politics', 'tech', 'tech', 'sport', 'business', 'sport', 'sport', 'tech', 'entertainment', 'business', 'business', 'business', 'politics', 'sport', 'tech', 'politics', 'business', 'tech', 'tech', 'sport', 'business', 'sport', 'entertainment', 'business', 'sport', 'tech', 'tech', 'entertainment', 'business', 'sport', 'politics', 'tech', 'sport', 'business', 'business', 'business', 'politics', 'sport', 'tech', 'entertainment', 'tech', 'tech', 'business', 'politics', 'business', 'entertainment', 'entertainment', 'politics', 'sport', 'politics', 'business', 'sport', 'business', 'politics', 'sport', 'tech', 'sport', 'tech', 'politics', 'sport', 'sport', 'tech', 'entertainment', 'entertainment', 'tech', 'entertainment', 'sport', 'sport', 'tech', 'entertainment', 'tech', 'entertainment', 'entertainment', 'sport', 'sport', 'sport', 'entertainment', 'entertainment', 'tech', 'sport', 'politics', 'entertainment', 'business', 'sport', 'business', 'business', 'politics', 'politics', 'business', 'politics', 'politics', 'sport', 'politics', 'sport', 'sport', 'business', 'entertainment', 'sport', 'tech', 'sport', 'politics', 'entertainment', 'tech', 'sport', 'sport', 'business', 'tech', 'tech', 'entertainment', 'entertainment', 'tech', 'entertainment', 'politics', 'politics', 'sport', 'business', 'politics', 'politics', 'entertainment', 'politics', 'entertainment', 'tech', 'politics', 'entertainment', 'politics', 'sport', 'sport', 'politics', 'business', 'politics', 'tech', 'business', 'business', 'sport', 'sport', 'tech', 'politics', 'sport', 'sport', 'tech', 'sport', 'politics', 'tech', 'entertainment', 'tech', 'entertainment', 'sport', 'politics', 'sport', 'entertainment', 'tech', 'entertainment', 'business', 'entertainment', 'tech', 'politics', 'sport', 'business', 'entertainment', 'business', 'business', 'entertainment', 'sport', 'sport', 'entertainment', 'politics', 'politics', 'business', 'entertainment', 'tech', 'business', 'politics', 'business', 'business', 'sport', 'politics', 'business', 'sport', 'politics', 'tech', 'tech', 'entertainment', 'business', 'entertainment', 'politics', 'sport', 'politics', 'entertainment', 'politics', 'tech', 'business', 'tech', 'business', 'politics', 'politics', 'tech', 'entertainment', 'sport', 'politics', 'politics', 'politics', 'politics', 'politics', 'sport', 'business', 'sport', 'entertainment', 'business', 'tech', 'politics', 'sport', 'business', 'sport', 'sport', 'politics', 'sport', 'entertainment', 'business', 'entertainment', 'entertainment', 'tech', 'politics', 'entertainment', 'tech', 'sport', 'politics', 'politics', 'business', 'sport', 'business', 'tech', 'entertainment', 'entertainment', 'sport', 'politics', 'entertainment', 'entertainment', 'politics', 'business', 'tech', 'entertainment', 'business', 'business', 'politics', 'politics', 'entertainment', 'sport', 'politics', 'tech', 'entertainment', 'politics', 'sport', 'business', 'sport', 'politics', 'sport', 'business', 'entertainment', 'tech', 'tech', 'business', 'sport', 'tech', 'politics', 'sport', 'politics', 'sport', 'sport', 'tech', 'politics', 'business', 'tech', 'business', 'entertainment', 'politics', 'sport', 'sport', 'business', 'business', 'sport', 'business', 'sport', 'sport', 'entertainment', 'sport', 'sport', 'politics', 'politics', 'tech', 'business', 'politics', 'tech', 'entertainment', 'business', 'politics', 'sport', 'sport', 'sport', 'entertainment', 'business', 'sport', 'sport', 'business', 'business', 'politics', 'business', 'sport', 'business', 'tech', 'politics', 'business', 'sport', 'business', 'entertainment', 'sport', 'entertainment', 'entertainment', 'entertainment', 'business', 'politics', 'politics', 'business', 'tech', 'sport', 'tech', 'politics']\n",
      "['sport', 'politics', 'tech', 'politics', 'business', 'entertainment', 'entertainment', 'entertainment', 'politics', 'entertainment', 'sport', 'entertainment', 'politics', 'tech', 'tech', 'politics', 'business', 'tech', 'business', 'tech', 'business', 'entertainment', 'entertainment', 'politics', 'sport', 'entertainment', 'entertainment', 'tech', 'tech', 'tech', 'business', 'tech', 'tech', 'business', 'sport', 'tech', 'politics', 'entertainment', 'business', 'sport', 'business', 'entertainment', 'sport', 'sport', 'sport', 'business', 'tech', 'politics', 'business', 'politics', 'politics', 'politics', 'entertainment', 'sport', 'politics', 'business', 'entertainment', 'entertainment', 'politics', 'tech', 'tech', 'business', 'tech', 'sport', 'sport', 'entertainment', 'sport', 'sport', 'sport', 'politics', 'tech', 'tech', 'politics', 'politics', 'business', 'business', 'sport', 'tech', 'tech', 'sport', 'entertainment', 'sport', 'entertainment', 'business', 'tech', 'politics', 'tech', 'sport', 'business', 'sport', 'business', 'entertainment', 'tech', 'business', 'sport', 'business', 'sport', 'tech', 'business', 'business', 'business', 'sport', 'business', 'sport', 'politics', 'business', 'sport', 'politics', 'entertainment', 'business', 'business', 'politics', 'business', 'tech', 'sport', 'entertainment', 'sport', 'entertainment', 'tech', 'sport', 'sport', 'sport', 'entertainment', 'politics', 'business', 'politics', 'politics', 'sport', 'entertainment', 'sport', 'business', 'sport', 'politics', 'entertainment', 'tech', 'business', 'business', 'sport', 'sport', 'sport', 'entertainment', 'sport', 'politics', 'politics', 'sport', 'tech', 'entertainment', 'entertainment', 'entertainment', 'politics', 'business', 'tech', 'business', 'entertainment', 'sport', 'sport', 'sport', 'business', 'tech', 'business', 'entertainment', 'tech', 'politics', 'sport', 'politics', 'politics', 'tech', 'entertainment', 'sport', 'politics', 'politics', 'entertainment', 'sport', 'politics', 'entertainment', 'entertainment', 'sport', 'tech', 'sport', 'business', 'business', 'business', 'sport', 'entertainment', 'entertainment', 'entertainment', 'sport', 'tech', 'politics', 'entertainment', 'politics', 'entertainment', 'entertainment', 'sport', 'sport', 'sport', 'entertainment', 'politics', 'business', 'sport', 'business', 'sport', 'politics', 'business', 'business', 'business', 'sport', 'sport', 'politics', 'business', 'entertainment', 'business', 'business', 'politics', 'politics', 'business', 'entertainment', 'politics', 'sport', 'business', 'tech', 'sport', 'sport', 'tech', 'business', 'entertainment', 'entertainment', 'business', 'politics', 'business', 'business', 'business', 'business', 'sport', 'tech', 'sport', 'politics', 'business', 'business', 'entertainment', 'politics', 'sport', 'tech', 'business', 'entertainment', 'business', 'tech', 'entertainment', 'sport', 'business', 'entertainment', 'tech', 'entertainment', 'politics', 'business', 'sport', 'politics', 'tech', 'sport', 'politics', 'tech', 'business', 'politics', 'tech', 'business', 'entertainment', 'tech', 'business', 'sport', 'entertainment', 'sport', 'tech', 'tech', 'sport', 'tech', 'tech', 'politics', 'politics', 'sport', 'politics', 'entertainment', 'business', 'entertainment', 'politics', 'politics', 'sport', 'tech', 'business', 'entertainment', 'business', 'sport', 'entertainment', 'entertainment', 'politics', 'politics', 'entertainment', 'business', 'entertainment', 'sport', 'tech', 'tech', 'business', 'sport', 'sport', 'entertainment', 'entertainment', 'business', 'entertainment', 'entertainment', 'tech', 'sport', 'politics', 'politics', 'entertainment', 'sport', 'politics', 'sport', 'tech', 'tech', 'politics', 'politics', 'business', 'tech', 'business', 'business', 'tech', 'tech', 'sport', 'business', 'business', 'entertainment', 'business', 'politics', 'sport', 'politics', 'politics', 'sport', 'business', 'business', 'business', 'business', 'sport', 'politics', 'tech', 'business', 'entertainment', 'entertainment', 'tech', 'entertainment', 'entertainment', 'business', 'sport', 'tech', 'business', 'business', 'business', 'sport', 'entertainment', 'sport', 'politics', 'politics', 'sport', 'entertainment', 'politics', 'tech', 'entertainment', 'politics', 'entertainment', 'sport', 'entertainment', 'politics', 'politics', 'business', 'tech', 'entertainment', 'sport', 'entertainment', 'politics', 'politics', 'business', 'entertainment', 'politics', 'business', 'sport', 'politics', 'entertainment', 'business', 'politics', 'entertainment', 'sport', 'sport', 'politics', 'tech', 'tech', 'tech', 'sport', 'tech', 'entertainment', 'sport', 'entertainment', 'business', 'politics', 'business', 'sport', 'politics', 'business', 'sport', 'politics', 'entertainment', 'politics', 'tech', 'politics', 'entertainment', 'business', 'entertainment', 'entertainment', 'tech', 'entertainment', 'politics', 'tech', 'tech', 'business', 'sport', 'sport', 'tech', 'business', 'sport', 'politics', 'sport', 'business', 'politics', 'entertainment', 'tech', 'politics', 'business', 'business', 'sport', 'tech', 'entertainment', 'business', 'entertainment', 'entertainment', 'business', 'tech', 'tech']\n",
      "['sport', 'tech', 'business', 'entertainment', 'politics', 'sport', 'tech', 'business', 'entertainment', 'politics', 'sport', 'tech', 'business', 'entertainment', 'politics', 'sport', 'tech', 'business', 'entertainment', 'politics', 'sport', 'tech', 'business', 'entertainment', 'politics', 'sport', 'tech', 'business', 'entertainment', 'politics', 'sport', 'tech', 'business', 'entertainment', 'politics', 'sport', 'tech', 'business', 'entertainment', 'politics', 'sport', 'tech', 'business', 'entertainment', 'politics', 'sport', 'tech', 'business', 'entertainment', 'politics', 'sport', 'tech', 'business', 'entertainment', 'politics', 'sport', 'tech', 'business', 'entertainment', 'politics', 'sport', 'tech', 'business', 'entertainment', 'politics', 'sport', 'tech', 'business', 'entertainment', 'politics', 'sport', 'tech', 'business', 'entertainment', 'politics', 'sport', 'tech', 'business', 'entertainment', 'politics', 'sport', 'tech', 'business', 'entertainment', 'politics', 'sport', 'tech', 'business', 'entertainment', 'politics', 'sport', 'tech', 'business', 'entertainment', 'politics', 'sport', 'tech', 'business', 'entertainment', 'politics', 'sport', 'tech', 'business', 'entertainment', 'politics', 'sport', 'tech', 'business', 'entertainment', 'politics', 'sport', 'tech', 'business', 'entertainment', 'politics', 'sport', 'tech', 'business', 'entertainment', 'politics', 'sport', 'tech', 'business', 'entertainment', 'politics', 'sport', 'tech', 'business', 'entertainment', 'politics', 'sport', 'tech', 'business', 'entertainment', 'politics', 'sport', 'tech', 'business', 'entertainment', 'politics', 'sport', 'tech', 'business', 'entertainment', 'politics', 'sport', 'tech', 'business', 'entertainment', 'politics', 'sport', 'tech', 'business', 'entertainment', 'politics', 'sport', 'tech', 'business', 'entertainment', 'politics', 'sport', 'tech', 'business', 'entertainment', 'politics', 'sport', 'tech', 'business', 'entertainment', 'politics', 'sport', 'tech', 'business', 'entertainment', 'politics', 'sport', 'tech', 'business', 'entertainment', 'politics', 'sport', 'tech', 'business', 'entertainment', 'politics', 'sport', 'tech', 'business', 'entertainment', 'politics', 'sport', 'tech', 'business', 'entertainment', 'politics', 'sport', 'tech', 'business', 'entertainment', 'politics', 'sport', 'tech', 'business', 'entertainment', 'politics', 'sport', 'tech', 'business', 'entertainment', 'politics', 'sport', 'tech', 'business', 'entertainment', 'politics', 'sport', 'tech', 'business', 'entertainment', 'politics', 'sport', 'tech', 'business', 'entertainment', 'politics', 'sport', 'tech', 'business', 'entertainment', 'politics', 'sport', 'tech', 'business', 'entertainment', 'politics', 'sport', 'tech', 'business', 'entertainment', 'politics', 'sport', 'tech', 'business', 'entertainment', 'politics', 'sport', 'tech', 'business', 'entertainment', 'politics', 'sport', 'tech', 'business', 'entertainment', 'politics', 'sport', 'tech', 'business', 'entertainment', 'politics', 'sport', 'tech', 'business', 'entertainment', 'politics', 'sport', 'tech', 'business', 'entertainment', 'politics', 'sport', 'tech', 'business', 'entertainment', 'politics', 'sport', 'tech', 'business', 'entertainment', 'politics', 'sport', 'tech', 'business', 'entertainment', 'politics', 'sport', 'tech', 'business', 'entertainment', 'politics', 'sport', 'tech', 'business', 'entertainment', 'politics', 'sport', 'tech', 'business', 'entertainment', 'politics', 'sport', 'tech', 'business', 'entertainment', 'politics', 'sport', 'tech', 'business', 'entertainment', 'politics', 'sport', 'tech', 'business', 'entertainment', 'politics', 'sport', 'tech', 'business', 'entertainment', 'politics', 'sport', 'tech', 'business', 'entertainment', 'politics', 'sport', 'tech', 'business', 'entertainment', 'politics', 'sport', 'tech', 'business', 'entertainment', 'politics', 'sport', 'tech', 'business', 'entertainment', 'politics', 'sport', 'tech', 'business', 'entertainment', 'politics', 'sport', 'tech', 'business', 'entertainment', 'politics', 'sport', 'tech', 'business', 'entertainment', 'politics', 'sport', 'tech', 'business', 'entertainment', 'politics', 'sport', 'tech', 'business', 'entertainment', 'politics', 'sport', 'tech', 'business', 'entertainment', 'politics', 'sport', 'tech', 'business', 'entertainment', 'politics', 'sport', 'tech', 'business', 'entertainment', 'politics', 'sport', 'tech', 'business', 'entertainment', 'politics', 'sport', 'tech', 'business', 'entertainment', 'politics', 'sport', 'tech', 'business', 'entertainment', 'politics', 'sport', 'tech', 'business', 'entertainment', 'politics', 'sport', 'tech', 'business', 'entertainment', 'politics', 'sport', 'tech', 'business', 'entertainment', 'politics', 'sport', 'tech', 'business', 'entertainment', 'politics', 'sport', 'tech', 'business', 'entertainment', 'politics', 'sport', 'tech', 'business', 'entertainment', 'politics', 'sport', 'tech', 'business', 'entertainment', 'politics', 'sport', 'tech', 'business', 'entertainment', 'politics', 'sport', 'tech', 'business', 'entertainment', 'politics', 'sport', 'tech', 'business', 'entertainment', 'politics', 'sport', 'tech', 'business', 'entertainment', 'politics', 'sport', 'tech', 'business', 'entertainment', 'politics', 'sport', 'tech', 'business', 'entertainment', 'politics', 'sport', 'tech', 'business', 'entertainment', 'politics', 'sport', 'tech', 'business', 'entertainment', 'politics', 'sport', 'tech', 'business', 'entertainment', 'politics', 'sport', 'tech', 'business', 'entertainment', 'politics', 'sport', 'tech', 'business', 'entertainment', 'politics', 'sport', 'tech', 'business', 'entertainment', 'politics', 'sport', 'tech', 'business', 'entertainment', 'politics', 'sport', 'tech', 'business', 'entertainment', 'politics', 'sport', 'tech', 'business', 'entertainment', 'politics', 'sport', 'tech', 'business', 'entertainment', 'politics', 'sport', 'tech', 'business', 'entertainment', 'politics', 'sport', 'tech', 'business', 'entertainment', 'politics', 'sport', 'tech', 'business', 'entertainment', 'politics', 'sport', 'tech', 'business', 'entertainment', 'politics', 'sport', 'tech', 'business', 'entertainment', 'politics', 'sport', 'tech', 'business', 'entertainment', 'politics', 'sport', 'tech', 'business', 'entertainment', 'politics', 'sport', 'tech', 'business', 'entertainment', 'politics', 'sport', 'tech', 'business', 'entertainment', 'politics', 'sport', 'tech', 'business', 'entertainment', 'politics', 'sport', 'tech', 'business', 'entertainment', 'politics', 'sport', 'tech', 'business', 'entertainment', 'politics', 'sport', 'tech', 'business', 'entertainment', 'politics', 'sport', 'tech', 'business', 'entertainment', 'politics', 'sport', 'tech', 'business', 'entertainment', 'politics', 'sport', 'tech', 'business', 'entertainment', 'politics', 'sport', 'tech', 'business', 'entertainment', 'politics', 'sport', 'tech', 'business', 'entertainment', 'politics', 'sport', 'tech', 'business', 'entertainment', 'politics', 'sport', 'tech', 'business', 'entertainment', 'politics', 'sport', 'tech', 'business', 'entertainment', 'politics', 'sport', 'tech', 'business', 'entertainment', 'politics', 'sport', 'tech', 'business', 'entertainment', 'politics', 'sport', 'tech', 'business', 'entertainment', 'politics', 'sport', 'tech', 'business', 'entertainment', 'politics', 'sport', 'tech', 'business', 'entertainment', 'politics', 'sport', 'tech', 'business', 'entertainment', 'politics', 'sport', 'tech', 'business', 'entertainment', 'politics', 'sport', 'tech', 'business', 'entertainment', 'politics', 'sport', 'tech', 'business', 'entertainment', 'politics', 'sport', 'tech', 'business', 'entertainment', 'politics', 'sport', 'tech', 'business', 'entertainment', 'politics', 'sport', 'tech', 'business', 'entertainment', 'politics', 'sport', 'tech', 'business', 'entertainment', 'politics', 'sport', 'tech', 'business', 'entertainment', 'politics', 'sport', 'tech', 'business', 'entertainment', 'politics', 'sport', 'tech', 'business', 'entertainment', 'politics', 'sport', 'tech', 'business', 'entertainment', 'politics', 'sport', 'tech', 'business', 'entertainment', 'politics', 'sport', 'tech', 'business', 'entertainment', 'politics', 'sport', 'tech', 'business', 'entertainment', 'politics', 'sport', 'tech', 'business', 'entertainment', 'politics', 'sport', 'tech', 'business', 'entertainment', 'politics', 'sport', 'tech', 'business', 'entertainment', 'politics', 'sport', 'tech', 'business', 'entertainment', 'politics', 'business', 'business', 'business', 'tech', 'business', 'politics', 'sport', 'entertainment', 'business', 'entertainment', 'politics', 'entertainment', 'business', 'business', 'sport', 'sport', 'entertainment', 'sport', 'sport', 'tech', 'sport', 'entertainment', 'sport', 'sport', 'tech', 'business', 'tech', 'sport', 'politics', 'business', 'tech', 'entertainment', 'business', 'politics', 'sport', 'entertainment', 'sport', 'sport', 'sport', 'tech', 'tech', 'sport', 'sport', 'tech', 'entertainment', 'entertainment', 'tech', 'tech', 'tech', 'business', 'tech', 'sport', 'politics', 'sport', 'sport', 'entertainment', 'business', 'business', 'politics', 'sport', 'tech', 'business', 'entertainment', 'tech', 'business', 'sport', 'politics', 'politics', 'tech', 'tech', 'sport', 'tech', 'sport', 'sport', 'sport', 'business', 'sport', 'business', 'entertainment', 'business', 'tech', 'business', 'politics', 'politics', 'sport', 'sport', 'politics', 'entertainment', 'sport', 'sport', 'politics', 'tech', 'politics', 'sport', 'politics', 'business', 'business', 'business', 'business', 'sport', 'business', 'politics', 'tech', 'tech', 'entertainment', 'politics', 'tech', 'business', 'business', 'business', 'business', 'entertainment', 'sport', 'business', 'business', 'business', 'politics', 'business', 'politics', 'sport', 'tech', 'sport', 'sport', 'politics', 'tech', 'tech', 'entertainment', 'sport', 'politics', 'business', 'sport', 'business', 'entertainment', 'sport', 'tech', 'entertainment', 'politics', 'business', 'sport', 'entertainment', 'entertainment', 'business', 'business', 'sport', 'tech', 'politics', 'business', 'business', 'sport', 'entertainment', 'sport', 'sport', 'politics', 'politics', 'tech', 'business', 'business', 'entertainment', 'tech', 'entertainment', 'politics', 'tech', 'entertainment', 'sport', 'business', 'politics', 'entertainment', 'sport', 'politics', 'sport', 'tech', 'entertainment', 'sport', 'entertainment', 'business', 'business', 'entertainment', 'politics', 'business', 'sport', 'sport', 'tech', 'sport', 'business', 'business', 'sport', 'business', 'entertainment', 'politics', 'entertainment', 'entertainment', 'tech', 'sport', 'politics', 'sport', 'tech', 'politics', 'sport', 'sport', 'sport', 'sport', 'entertainment', 'sport', 'business', 'tech', 'business', 'politics', 'sport', 'tech', 'business', 'business', 'sport', 'entertainment', 'entertainment', 'politics', 'politics', 'sport', 'politics', 'politics', 'sport', 'entertainment', 'entertainment', 'sport', 'entertainment', 'entertainment', 'sport', 'sport', 'business', 'tech', 'entertainment', 'politics', 'business', 'sport', 'business', 'entertainment', 'business', 'tech', 'sport', 'sport', 'sport', 'sport', 'sport', 'business', 'sport', 'entertainment', 'business', 'politics', 'sport', 'business', 'politics', 'business', 'entertainment', 'sport', 'sport', 'business', 'tech', 'business', 'tech', 'politics', 'tech', 'tech', 'business', 'politics', 'sport', 'entertainment', 'entertainment', 'business', 'entertainment', 'tech', 'entertainment', 'entertainment', 'politics', 'tech', 'sport', 'sport', 'politics', 'sport', 'tech', 'business', 'tech', 'business', 'tech', 'entertainment', 'sport', 'sport', 'sport', 'politics', 'politics', 'sport', 'sport', 'entertainment', 'business', 'tech', 'sport', 'politics', 'tech', 'politics', 'politics', 'tech', 'tech', 'business', 'tech', 'business', 'sport', 'entertainment', 'business', 'sport', 'politics', 'entertainment', 'tech', 'politics', 'business', 'entertainment', 'business', 'tech', 'sport', 'tech', 'sport', 'sport', 'sport', 'politics', 'business', 'politics', 'entertainment', 'sport', 'entertainment', 'business', 'politics', 'business', 'sport', 'entertainment', 'sport', 'business', 'entertainment', 'entertainment', 'sport', 'politics', 'business', 'politics', 'tech', 'entertainment', 'entertainment', 'entertainment', 'tech', 'sport', 'business', 'entertainment', 'entertainment', 'entertainment', 'politics', 'sport', 'politics', 'politics', 'tech', 'politics', 'business', 'politics', 'business', 'sport', 'entertainment', 'business', 'business', 'business', 'sport', 'sport', 'politics', 'politics', 'sport', 'tech', 'tech', 'sport', 'tech', 'entertainment', 'politics', 'tech', 'politics', 'entertainment', 'sport', 'business', 'tech', 'sport', 'business', 'politics', 'entertainment', 'politics', 'sport', 'tech', 'sport', 'business', 'sport', 'tech', 'business', 'politics', 'business', 'sport', 'sport', 'tech', 'tech', 'business', 'business', 'politics', 'politics', 'business', 'entertainment', 'business', 'entertainment', 'sport', 'sport', 'entertainment', 'entertainment', 'business', 'politics', 'business', 'entertainment', 'sport', 'tech', 'entertainment', 'tech', 'entertainment', 'business', 'tech', 'entertainment', 'business', 'business', 'business', 'business', 'entertainment', 'tech', 'tech', 'tech', 'entertainment', 'tech', 'sport', 'entertainment', 'politics', 'tech', 'business', 'sport', 'entertainment', 'sport', 'tech', 'tech', 'business', 'tech', 'sport', 'sport', 'sport', 'entertainment', 'entertainment', 'business', 'entertainment', 'tech', 'tech', 'sport', 'entertainment', 'tech', 'business', 'politics', 'entertainment', 'tech', 'politics', 'sport', 'sport', 'politics', 'politics', 'business', 'sport', 'sport', 'business', 'entertainment', 'entertainment', 'politics', 'business', 'business', 'business', 'business', 'sport', 'business', 'business', 'politics', 'politics', 'tech', 'entertainment', 'politics', 'business', 'tech', 'business', 'business', 'sport', 'tech', 'tech', 'sport', 'entertainment', 'tech', 'tech', 'tech', 'politics', 'tech', 'tech', 'tech', 'business', 'business', 'business', 'tech', 'sport', 'business', 'politics', 'politics', 'entertainment', 'tech', 'politics', 'entertainment', 'entertainment', 'business', 'politics', 'sport', 'sport', 'sport', 'sport', 'politics', 'entertainment', 'business', 'business', 'politics', 'sport', 'entertainment', 'entertainment', 'sport', 'business', 'politics', 'entertainment', 'business', 'sport', 'tech', 'sport', 'sport', 'business', 'tech', 'politics', 'business', 'tech', 'politics', 'politics', 'politics', 'sport', 'business', 'sport', 'entertainment', 'politics', 'tech', 'tech', 'business', 'tech', 'business', 'entertainment', 'entertainment', 'politics', 'business', 'politics', 'business', 'entertainment', 'entertainment', 'business', 'politics', 'business', 'tech', 'business', 'business', 'tech', 'politics', 'business', 'tech', 'business', 'politics', 'entertainment', 'sport', 'entertainment', 'sport', 'entertainment', 'sport', 'business', 'tech', 'tech', 'sport', 'sport', 'business', 'politics', 'tech', 'tech', 'tech', 'business', 'sport', 'business', 'business', 'business', 'business', 'business', 'entertainment', 'tech', 'sport', 'sport', 'politics', 'tech', 'tech', 'business', 'tech', 'business', 'politics', 'entertainment', 'tech', 'business', 'business', 'politics', 'tech', 'entertainment', 'business', 'tech', 'entertainment', 'entertainment', 'sport', 'politics', 'sport', 'business', 'entertainment', 'entertainment', 'business', 'politics', 'business', 'tech', 'tech', 'business', 'entertainment', 'tech', 'tech', 'sport', 'sport', 'entertainment', 'sport', 'entertainment', 'politics', 'entertainment', 'tech', 'entertainment', 'politics', 'politics', 'business', 'business', 'tech', 'sport', 'sport', 'business', 'tech', 'politics', 'politics', 'business', 'entertainment', 'sport', 'sport', 'politics', 'tech', 'sport', 'sport', 'business', 'politics', 'business', 'entertainment', 'tech', 'politics', 'sport', 'sport', 'tech', 'politics', 'business', 'sport', 'politics', 'politics', 'sport', 'business', 'tech', 'politics', 'business', 'tech', 'entertainment', 'business', 'tech', 'politics', 'tech', 'politics', 'entertainment', 'sport', 'sport', 'business', 'business', 'tech', 'sport', 'entertainment', 'entertainment', 'tech', 'politics', 'entertainment', 'business', 'entertainment', 'tech', 'business', 'sport', 'business', 'business', 'business', 'sport', 'sport', 'tech', 'business', 'sport', 'politics', 'sport', 'entertainment', 'business', 'entertainment', 'entertainment', 'politics', 'tech', 'tech', 'sport', 'business', 'sport', 'sport', 'tech', 'entertainment', 'business', 'business', 'business', 'politics', 'sport', 'tech', 'politics', 'business', 'tech', 'tech', 'sport', 'business', 'sport', 'entertainment', 'business', 'sport', 'tech', 'tech', 'entertainment', 'business', 'sport', 'politics', 'tech', 'sport', 'business', 'business', 'business', 'politics', 'sport', 'tech', 'entertainment', 'tech', 'tech', 'business', 'politics', 'business', 'entertainment', 'entertainment', 'politics', 'sport', 'politics', 'business', 'sport', 'business', 'politics', 'sport', 'tech', 'sport', 'tech', 'politics', 'sport', 'sport', 'tech', 'entertainment', 'entertainment', 'tech', 'entertainment', 'sport', 'sport', 'tech', 'entertainment', 'tech', 'entertainment', 'entertainment', 'sport', 'sport', 'sport', 'entertainment', 'entertainment', 'tech', 'sport', 'politics', 'entertainment', 'business', 'sport', 'business', 'business', 'politics', 'politics', 'business', 'politics', 'politics', 'sport', 'politics', 'sport', 'sport', 'business', 'entertainment', 'sport', 'tech', 'sport', 'politics', 'entertainment', 'tech', 'sport', 'sport', 'business', 'tech', 'tech', 'entertainment', 'entertainment', 'tech', 'entertainment', 'politics', 'politics', 'sport', 'business', 'politics', 'politics', 'entertainment', 'politics', 'entertainment', 'tech', 'politics', 'entertainment', 'politics', 'sport', 'sport', 'politics', 'business', 'politics', 'tech', 'business', 'business', 'sport', 'sport', 'tech', 'politics', 'sport', 'sport', 'tech', 'sport', 'politics', 'tech', 'entertainment', 'tech', 'entertainment', 'sport', 'politics', 'sport', 'entertainment', 'tech', 'entertainment', 'business', 'entertainment', 'tech', 'politics', 'sport', 'business', 'entertainment', 'business', 'business', 'entertainment', 'sport', 'sport', 'entertainment', 'politics', 'politics', 'business', 'entertainment', 'tech', 'business', 'politics', 'business', 'business', 'sport', 'politics', 'business', 'sport', 'politics', 'tech', 'tech', 'entertainment', 'business', 'entertainment', 'politics', 'sport', 'politics', 'entertainment', 'politics', 'tech', 'business', 'tech', 'business', 'politics', 'politics', 'tech', 'entertainment', 'sport', 'politics', 'politics', 'politics', 'politics', 'politics', 'sport', 'business', 'sport', 'entertainment', 'business', 'tech', 'politics', 'sport', 'business', 'sport', 'sport', 'politics', 'sport', 'entertainment', 'business', 'entertainment', 'entertainment', 'tech', 'politics', 'entertainment', 'tech', 'sport', 'politics', 'politics', 'business', 'sport', 'business', 'tech', 'entertainment', 'entertainment', 'sport', 'politics', 'entertainment', 'entertainment', 'politics', 'business', 'tech', 'entertainment', 'business', 'business', 'politics', 'politics', 'entertainment', 'sport', 'politics', 'tech', 'entertainment', 'politics', 'sport', 'business', 'sport', 'politics', 'sport', 'business', 'entertainment', 'tech', 'tech', 'business', 'sport', 'tech', 'politics', 'sport', 'politics', 'sport', 'sport', 'tech', 'politics', 'business', 'tech', 'business', 'entertainment', 'politics', 'sport', 'sport', 'business', 'business', 'sport', 'business', 'sport', 'sport', 'entertainment', 'sport', 'sport', 'politics', 'politics', 'tech', 'business', 'politics', 'tech', 'entertainment', 'business', 'politics', 'sport', 'sport', 'sport', 'entertainment', 'business', 'sport', 'sport', 'business', 'business', 'politics', 'business', 'sport', 'business', 'tech', 'politics', 'business', 'sport', 'business', 'entertainment', 'sport', 'entertainment', 'entertainment', 'entertainment', 'business', 'politics', 'politics', 'business', 'tech', 'sport', 'tech', 'politics', 'sport', 'politics', 'tech', 'politics', 'business', 'entertainment', 'entertainment', 'entertainment', 'politics', 'entertainment', 'sport', 'entertainment', 'politics', 'tech', 'tech', 'politics', 'business', 'tech', 'business', 'tech', 'business', 'entertainment', 'entertainment', 'politics', 'sport', 'entertainment', 'entertainment', 'tech', 'tech', 'tech', 'business', 'tech', 'tech', 'business', 'sport', 'tech', 'politics', 'entertainment', 'business', 'sport', 'business', 'entertainment', 'sport', 'sport', 'sport', 'business', 'tech', 'politics', 'business', 'politics', 'politics', 'politics', 'entertainment', 'sport', 'politics', 'business', 'entertainment', 'entertainment', 'politics', 'tech', 'tech', 'business', 'tech', 'sport', 'sport', 'entertainment', 'sport', 'sport', 'sport', 'politics', 'tech', 'tech', 'politics', 'politics', 'business', 'business', 'sport', 'tech', 'tech', 'sport', 'entertainment', 'sport', 'entertainment', 'business', 'tech', 'politics', 'tech', 'sport', 'business', 'sport', 'business', 'entertainment', 'tech', 'business', 'sport', 'business', 'sport', 'tech', 'business', 'business', 'business', 'sport', 'business', 'sport', 'politics', 'business', 'sport', 'politics', 'entertainment', 'business', 'business', 'politics', 'business', 'tech', 'sport', 'entertainment', 'sport', 'entertainment', 'tech', 'sport', 'sport', 'sport', 'entertainment', 'politics', 'business', 'politics', 'politics', 'sport', 'entertainment', 'sport', 'business', 'sport', 'politics', 'entertainment', 'tech', 'business', 'business', 'sport', 'sport', 'sport', 'entertainment', 'sport', 'politics', 'politics', 'sport', 'tech', 'entertainment', 'entertainment', 'entertainment', 'politics', 'business', 'tech', 'business', 'entertainment', 'sport', 'sport', 'sport', 'business', 'tech', 'business', 'entertainment', 'tech', 'politics', 'sport', 'politics', 'politics', 'tech', 'entertainment', 'sport', 'politics', 'politics', 'entertainment', 'sport', 'politics', 'entertainment', 'entertainment', 'sport', 'tech', 'sport', 'business', 'business', 'business', 'sport', 'entertainment', 'entertainment', 'entertainment', 'sport', 'tech', 'politics', 'entertainment', 'politics', 'entertainment', 'entertainment', 'sport', 'sport', 'sport', 'entertainment', 'politics', 'business', 'sport', 'business', 'sport', 'politics', 'business', 'business', 'business', 'sport', 'sport', 'politics', 'business', 'entertainment', 'business', 'business', 'politics', 'politics', 'business', 'entertainment', 'politics', 'sport', 'business', 'tech', 'sport', 'sport', 'tech', 'business', 'entertainment', 'entertainment', 'business', 'politics', 'business', 'business', 'business', 'business', 'sport', 'tech', 'sport', 'politics', 'business', 'business', 'entertainment', 'politics', 'sport', 'tech', 'business', 'entertainment', 'business', 'tech', 'entertainment', 'sport', 'business', 'entertainment', 'tech', 'entertainment', 'politics', 'business', 'sport', 'politics', 'tech', 'sport', 'politics', 'tech', 'business', 'politics', 'tech', 'business', 'entertainment', 'tech', 'business', 'sport', 'entertainment', 'sport', 'tech', 'tech', 'sport', 'tech', 'tech', 'politics', 'politics', 'sport', 'politics', 'entertainment', 'business', 'entertainment', 'politics', 'politics', 'sport', 'tech', 'business', 'entertainment', 'business', 'sport', 'entertainment', 'entertainment', 'politics', 'politics', 'entertainment', 'business', 'entertainment', 'sport', 'tech', 'tech', 'business', 'sport', 'sport', 'entertainment', 'entertainment', 'business', 'entertainment', 'entertainment', 'tech', 'sport', 'politics', 'politics', 'entertainment', 'sport', 'politics', 'sport', 'tech', 'tech', 'politics', 'politics', 'business', 'tech', 'business', 'business', 'tech', 'tech', 'sport', 'business', 'business', 'entertainment', 'business', 'politics', 'sport', 'politics', 'politics', 'sport', 'business', 'business', 'business', 'business', 'sport', 'politics', 'tech', 'business', 'entertainment', 'entertainment', 'tech', 'entertainment', 'entertainment', 'business', 'sport', 'tech', 'business', 'business', 'business', 'sport', 'entertainment', 'sport', 'politics', 'politics', 'sport', 'entertainment', 'politics', 'tech', 'entertainment', 'politics', 'entertainment', 'sport', 'entertainment', 'politics', 'politics', 'business', 'tech', 'entertainment', 'sport', 'entertainment', 'politics', 'politics', 'business', 'entertainment', 'politics', 'business', 'sport', 'politics', 'entertainment', 'business', 'politics', 'entertainment', 'sport', 'sport', 'politics', 'tech', 'tech', 'tech', 'sport', 'tech', 'entertainment', 'sport', 'entertainment', 'business', 'politics', 'business', 'sport', 'politics', 'business', 'sport', 'politics', 'entertainment', 'politics', 'tech', 'politics', 'entertainment', 'business', 'entertainment', 'entertainment', 'tech', 'entertainment', 'politics', 'tech', 'tech', 'business', 'sport', 'sport', 'tech', 'business', 'sport', 'politics', 'sport', 'business', 'politics', 'entertainment', 'tech', 'politics', 'business', 'business', 'sport', 'tech', 'entertainment', 'business', 'entertainment', 'entertainment', 'business', 'tech', 'tech']\n"
     ]
    }
   ],
   "source": [
    "print(train_labels)\n",
    "print(val_labels)\n",
    "print(labels)"
   ]
  },
  {
   "cell_type": "code",
   "execution_count": 43,
   "id": "97b911a9",
   "metadata": {},
   "outputs": [
    {
     "name": "stdout",
     "output_type": "stream",
     "text": [
      "[[0]\n",
      " [4]\n",
      " [1]\n",
      " ...\n",
      " [0]\n",
      " [4]\n",
      " [2]]\n",
      "First 5 labels of the training set should look like this:\n",
      "[[0]\n",
      " [4]\n",
      " [1]\n",
      " [3]\n",
      " [2]]\n",
      "\n",
      "First 5 labels of the validation set should look like this:\n",
      "[[0]\n",
      " [2]\n",
      " [4]\n",
      " [2]\n",
      " [1]]\n",
      "\n",
      "Tokenized labels of the training set have shape: (1780, 1)\n",
      "\n",
      "Tokenized labels of the validation set have shape: (445, 1)\n",
      "\n"
     ]
    }
   ],
   "source": [
    "# Test your function\n",
    "train_label_seq = tokenize_labels(labels, train_labels)\n",
    "print(train_label_seq)\n",
    "val_label_seq = tokenize_labels(labels, val_labels)\n",
    "\n",
    "print(f\"First 5 labels of the training set should look like this:\\n{train_label_seq[:5]}\\n\")\n",
    "print(f\"First 5 labels of the validation set should look like this:\\n{val_label_seq[:5]}\\n\")\n",
    "print(f\"Tokenized labels of the training set have shape: {train_label_seq.shape}\\n\")\n",
    "print(f\"Tokenized labels of the validation set have shape: {val_label_seq.shape}\\n\")"
   ]
  },
  {
   "cell_type": "markdown",
   "id": "330dcfa6",
   "metadata": {},
   "source": [
    "***Expected Output:***\n",
    "\n",
    "```\n",
    "First 5 labels of the training set should look like this:\n",
    "[[3]\n",
    " [1]\n",
    " [0]\n",
    " [0]\n",
    " [4]]\n",
    "\n",
    "First 5 labels of the validation set should look like this:\n",
    "[[4]\n",
    " [3]\n",
    " [2]\n",
    " [0]\n",
    " [0]]\n",
    "\n",
    "Tokenized labels of the training set have shape: (1780, 1)\n",
    "\n",
    "Tokenized labels of the validation set have shape: (445, 1)\n",
    "```"
   ]
  },
  {
   "cell_type": "markdown",
   "id": "409a3ba2",
   "metadata": {},
   "source": [
    "## Selecting the model for text classification\n",
    "\n",
    "Now that the data is ready to be fed a Neural Network it is time for you to define the model that will classify each text as being part of a certain category. \n",
    "\n",
    "For this complete the `create_model` below. \n",
    "\n",
    "A couple of things to keep in mind:\n",
    "\n",
    "- Notice that this function has three parameters, all of which are meant to be passed to an [Embedding](https://www.tensorflow.org/api_docs/python/tf/keras/layers/Embedding) layer, which is what you will probably use as a first layer for your model.\n",
    "\n",
    "\n",
    "- The last layer should be a Dense layer with 5 units (since there are 5 categories) with a softmax activation.\n",
    "\n",
    "\n",
    "- You should also compile your model using an appropiate loss function and optimizer.\n",
    "\n",
    "\n",
    "- You can use any architecture you want but keep in mind that this problem doesn't need many layers to be solved successfully. You don't need any layers beside Embedding, [GlobalAveragePooling1D](https://www.tensorflow.org/api_docs/python/tf/keras/layers/GlobalAveragePooling1D) and Dense layers but feel free to try out different architectures.\n",
    "\n",
    "\n",
    "- **To pass this graded function your model should reach at least a 95% training accuracy and a 90% validation accuracy in under 30 epochs.**"
   ]
  },
  {
   "cell_type": "code",
   "execution_count": 44,
   "id": "777e43f4",
   "metadata": {
    "id": "HZ5um4MWZP-W"
   },
   "outputs": [],
   "source": [
    "# GRADED FUNCTION: create_model\n",
    "def create_model(num_words, embedding_dim, maxlen):\n",
    "    \n",
    "    tf.random.set_seed(123)\n",
    "    \n",
    "    ### START CODE HERE\n",
    "    \n",
    "    model = tf.keras.Sequential([ \n",
    "        tf.keras.layers.Embedding(num_words, embedding_dim, input_length=maxlen),\n",
    "        tf.keras.layers.GlobalAveragePooling1D(),\n",
    "        tf.keras.layers.Dense(24, activation='relu'),\n",
    "        tf.keras.layers.Dense(5, activation='softmax')\n",
    "    ])\n",
    "    \n",
    "    model.compile(loss='sparse_categorical_crossentropy',\n",
    "                  optimizer='adam',\n",
    "                  metrics=['accuracy']) \n",
    "\n",
    "    ### END CODE HERE\n",
    "\n",
    "    return model\n"
   ]
  },
  {
   "cell_type": "code",
   "execution_count": 45,
   "id": "528697fa",
   "metadata": {},
   "outputs": [
    {
     "name": "stdout",
     "output_type": "stream",
     "text": [
      "Epoch 1/30\n"
     ]
    },
    {
     "name": "stderr",
     "output_type": "stream",
     "text": [
      "c:\\Users\\ayush\\anaconda3\\Lib\\site-packages\\keras\\src\\layers\\core\\embedding.py:90: UserWarning: Argument `input_length` is deprecated. Just remove it.\n",
      "  warnings.warn(\n"
     ]
    },
    {
     "name": "stdout",
     "output_type": "stream",
     "text": [
      "\u001b[1m56/56\u001b[0m \u001b[32m━━━━━━━━━━━━━━━━━━━━\u001b[0m\u001b[37m\u001b[0m \u001b[1m1s\u001b[0m 6ms/step - accuracy: 0.2063 - loss: 1.6067 - val_accuracy: 0.3011 - val_loss: 1.5873\n",
      "Epoch 2/30\n",
      "\u001b[1m56/56\u001b[0m \u001b[32m━━━━━━━━━━━━━━━━━━━━\u001b[0m\u001b[37m\u001b[0m \u001b[1m0s\u001b[0m 3ms/step - accuracy: 0.3146 - loss: 1.5898 - val_accuracy: 0.4449 - val_loss: 1.5455\n",
      "Epoch 3/30\n",
      "\u001b[1m56/56\u001b[0m \u001b[32m━━━━━━━━━━━━━━━━━━━━\u001b[0m\u001b[37m\u001b[0m \u001b[1m0s\u001b[0m 4ms/step - accuracy: 0.3945 - loss: 1.5584 - val_accuracy: 0.5775 - val_loss: 1.4695\n",
      "Epoch 4/30\n",
      "\u001b[1m56/56\u001b[0m \u001b[32m━━━━━━━━━━━━━━━━━━━━\u001b[0m\u001b[37m\u001b[0m \u001b[1m0s\u001b[0m 4ms/step - accuracy: 0.4709 - loss: 1.5055 - val_accuracy: 0.7843 - val_loss: 1.3599\n",
      "Epoch 5/30\n",
      "\u001b[1m56/56\u001b[0m \u001b[32m━━━━━━━━━━━━━━━━━━━━\u001b[0m\u001b[37m\u001b[0m \u001b[1m0s\u001b[0m 4ms/step - accuracy: 0.5546 - loss: 1.4366 - val_accuracy: 0.8539 - val_loss: 1.2432\n",
      "Epoch 6/30\n",
      "\u001b[1m56/56\u001b[0m \u001b[32m━━━━━━━━━━━━━━━━━━━━\u001b[0m\u001b[37m\u001b[0m \u001b[1m0s\u001b[0m 3ms/step - accuracy: 0.5846 - loss: 1.3677 - val_accuracy: 0.8719 - val_loss: 1.1362\n",
      "Epoch 7/30\n",
      "\u001b[1m56/56\u001b[0m \u001b[32m━━━━━━━━━━━━━━━━━━━━\u001b[0m\u001b[37m\u001b[0m \u001b[1m0s\u001b[0m 3ms/step - accuracy: 0.5947 - loss: 1.3084 - val_accuracy: 0.8719 - val_loss: 1.0477\n",
      "Epoch 8/30\n",
      "\u001b[1m56/56\u001b[0m \u001b[32m━━━━━━━━━━━━━━━━━━━━\u001b[0m\u001b[37m\u001b[0m \u001b[1m0s\u001b[0m 4ms/step - accuracy: 0.5999 - loss: 1.2608 - val_accuracy: 0.8854 - val_loss: 0.9757\n",
      "Epoch 9/30\n",
      "\u001b[1m56/56\u001b[0m \u001b[32m━━━━━━━━━━━━━━━━━━━━\u001b[0m\u001b[37m\u001b[0m \u001b[1m0s\u001b[0m 4ms/step - accuracy: 0.6102 - loss: 1.2212 - val_accuracy: 0.8989 - val_loss: 0.9170\n",
      "Epoch 10/30\n",
      "\u001b[1m56/56\u001b[0m \u001b[32m━━━━━━━━━━━━━━━━━━━━\u001b[0m\u001b[37m\u001b[0m \u001b[1m0s\u001b[0m 5ms/step - accuracy: 0.6174 - loss: 1.1870 - val_accuracy: 0.9079 - val_loss: 0.8665\n",
      "Epoch 11/30\n",
      "\u001b[1m56/56\u001b[0m \u001b[32m━━━━━━━━━━━━━━━━━━━━\u001b[0m\u001b[37m\u001b[0m \u001b[1m0s\u001b[0m 3ms/step - accuracy: 0.6242 - loss: 1.1556 - val_accuracy: 0.9124 - val_loss: 0.8225\n",
      "Epoch 12/30\n",
      "\u001b[1m56/56\u001b[0m \u001b[32m━━━━━━━━━━━━━━━━━━━━\u001b[0m\u001b[37m\u001b[0m \u001b[1m0s\u001b[0m 3ms/step - accuracy: 0.6325 - loss: 1.1266 - val_accuracy: 0.9169 - val_loss: 0.7845\n",
      "Epoch 13/30\n",
      "\u001b[1m56/56\u001b[0m \u001b[32m━━━━━━━━━━━━━━━━━━━━\u001b[0m\u001b[37m\u001b[0m \u001b[1m0s\u001b[0m 4ms/step - accuracy: 0.6408 - loss: 1.0999 - val_accuracy: 0.9213 - val_loss: 0.7516\n",
      "Epoch 14/30\n",
      "\u001b[1m56/56\u001b[0m \u001b[32m━━━━━━━━━━━━━━━━━━━━\u001b[0m\u001b[37m\u001b[0m \u001b[1m0s\u001b[0m 4ms/step - accuracy: 0.6435 - loss: 1.0750 - val_accuracy: 0.9281 - val_loss: 0.7241\n",
      "Epoch 15/30\n",
      "\u001b[1m56/56\u001b[0m \u001b[32m━━━━━━━━━━━━━━━━━━━━\u001b[0m\u001b[37m\u001b[0m \u001b[1m0s\u001b[0m 4ms/step - accuracy: 0.6505 - loss: 1.0520 - val_accuracy: 0.9303 - val_loss: 0.7015\n",
      "Epoch 16/30\n",
      "\u001b[1m56/56\u001b[0m \u001b[32m━━━━━━━━━━━━━━━━━━━━\u001b[0m\u001b[37m\u001b[0m \u001b[1m0s\u001b[0m 3ms/step - accuracy: 0.6550 - loss: 1.0306 - val_accuracy: 0.9281 - val_loss: 0.6827\n",
      "Epoch 17/30\n",
      "\u001b[1m56/56\u001b[0m \u001b[32m━━━━━━━━━━━━━━━━━━━━\u001b[0m\u001b[37m\u001b[0m \u001b[1m0s\u001b[0m 4ms/step - accuracy: 0.6582 - loss: 1.0101 - val_accuracy: 0.9258 - val_loss: 0.6679\n",
      "Epoch 18/30\n",
      "\u001b[1m56/56\u001b[0m \u001b[32m━━━━━━━━━━━━━━━━━━━━\u001b[0m\u001b[37m\u001b[0m \u001b[1m0s\u001b[0m 3ms/step - accuracy: 0.6590 - loss: 0.9907 - val_accuracy: 0.9258 - val_loss: 0.6559\n",
      "Epoch 19/30\n",
      "\u001b[1m56/56\u001b[0m \u001b[32m━━━━━━━━━━━━━━━━━━━━\u001b[0m\u001b[37m\u001b[0m \u001b[1m0s\u001b[0m 3ms/step - accuracy: 0.6648 - loss: 0.9717 - val_accuracy: 0.9213 - val_loss: 0.6465\n",
      "Epoch 20/30\n",
      "\u001b[1m56/56\u001b[0m \u001b[32m━━━━━━━━━━━━━━━━━━━━\u001b[0m\u001b[37m\u001b[0m \u001b[1m0s\u001b[0m 3ms/step - accuracy: 0.6665 - loss: 0.9534 - val_accuracy: 0.9124 - val_loss: 0.6391\n",
      "Epoch 21/30\n",
      "\u001b[1m56/56\u001b[0m \u001b[32m━━━━━━━━━━━━━━━━━━━━\u001b[0m\u001b[37m\u001b[0m \u001b[1m0s\u001b[0m 3ms/step - accuracy: 0.6745 - loss: 0.9353 - val_accuracy: 0.9079 - val_loss: 0.6333\n",
      "Epoch 22/30\n",
      "\u001b[1m56/56\u001b[0m \u001b[32m━━━━━━━━━━━━━━━━━━━━\u001b[0m\u001b[37m\u001b[0m \u001b[1m0s\u001b[0m 3ms/step - accuracy: 0.6759 - loss: 0.9173 - val_accuracy: 0.9034 - val_loss: 0.6295\n",
      "Epoch 23/30\n",
      "\u001b[1m56/56\u001b[0m \u001b[32m━━━━━━━━━━━━━━━━━━━━\u001b[0m\u001b[37m\u001b[0m \u001b[1m0s\u001b[0m 3ms/step - accuracy: 0.6812 - loss: 0.8996 - val_accuracy: 0.8944 - val_loss: 0.6266\n",
      "Epoch 24/30\n",
      "\u001b[1m56/56\u001b[0m \u001b[32m━━━━━━━━━━━━━━━━━━━━\u001b[0m\u001b[37m\u001b[0m \u001b[1m0s\u001b[0m 3ms/step - accuracy: 0.6856 - loss: 0.8820 - val_accuracy: 0.8921 - val_loss: 0.6247\n",
      "Epoch 25/30\n",
      "\u001b[1m56/56\u001b[0m \u001b[32m━━━━━━━━━━━━━━━━━━━━\u001b[0m\u001b[37m\u001b[0m \u001b[1m0s\u001b[0m 3ms/step - accuracy: 0.6868 - loss: 0.8647 - val_accuracy: 0.8876 - val_loss: 0.6237\n",
      "Epoch 26/30\n",
      "\u001b[1m56/56\u001b[0m \u001b[32m━━━━━━━━━━━━━━━━━━━━\u001b[0m\u001b[37m\u001b[0m \u001b[1m0s\u001b[0m 3ms/step - accuracy: 0.6920 - loss: 0.8473 - val_accuracy: 0.8854 - val_loss: 0.6221\n",
      "Epoch 27/30\n",
      "\u001b[1m56/56\u001b[0m \u001b[32m━━━━━━━━━━━━━━━━━━━━\u001b[0m\u001b[37m\u001b[0m \u001b[1m0s\u001b[0m 3ms/step - accuracy: 0.6994 - loss: 0.8300 - val_accuracy: 0.8831 - val_loss: 0.6214\n",
      "Epoch 28/30\n",
      "\u001b[1m56/56\u001b[0m \u001b[32m━━━━━━━━━━━━━━━━━━━━\u001b[0m\u001b[37m\u001b[0m \u001b[1m0s\u001b[0m 3ms/step - accuracy: 0.7103 - loss: 0.8124 - val_accuracy: 0.8787 - val_loss: 0.6219\n",
      "Epoch 29/30\n",
      "\u001b[1m56/56\u001b[0m \u001b[32m━━━━━━━━━━━━━━━━━━━━\u001b[0m\u001b[37m\u001b[0m \u001b[1m0s\u001b[0m 3ms/step - accuracy: 0.7092 - loss: 0.7953 - val_accuracy: 0.8697 - val_loss: 0.6235\n",
      "Epoch 30/30\n",
      "\u001b[1m56/56\u001b[0m \u001b[32m━━━━━━━━━━━━━━━━━━━━\u001b[0m\u001b[37m\u001b[0m \u001b[1m0s\u001b[0m 3ms/step - accuracy: 0.7143 - loss: 0.7784 - val_accuracy: 0.8652 - val_loss: 0.6257\n"
     ]
    }
   ],
   "source": [
    "model = create_model(NUM_WORDS, EMBEDDING_DIM, MAXLEN)\n",
    "\n",
    "history = model.fit(train_padded_seq, train_label_seq, epochs=30, validation_data=(val_padded_seq, val_label_seq))"
   ]
  },
  {
   "cell_type": "markdown",
   "id": "7c432bfb",
   "metadata": {},
   "source": [
    "Once training has finished you can run the following cell to check the training and validation accuracy achieved at the end of each epoch.\n",
    "\n",
    "**Remember that to pass this assignment your model should achieve a training accuracy of at least 95% and a validation accuracy of at least 90%. If your model didn't achieve these thresholds, try training again with a different model architecture.**"
   ]
  },
  {
   "cell_type": "code",
   "execution_count": 46,
   "id": "39ac0880",
   "metadata": {},
   "outputs": [
    {
     "data": {
      "image/png": "[encoded data removed]",
      "text/plain": [
       "<Figure size 640x480 with 1 Axes>"
      ]
     },
     "metadata": {},
     "output_type": "display_data"
    },
    {
     "data": {
      "image/png": "[encoded data removed]",
      "text/plain": [
       "<Figure size 640x480 with 1 Axes>"
      ]
     },
     "metadata": {},
     "output_type": "display_data"
    }
   ],
   "source": [
    "def plot_graphs(history, metric):\n",
    "    plt.plot(history.history[metric])\n",
    "    plt.plot(history.history[f'val_{metric}'])\n",
    "    plt.xlabel(\"Epochs\")\n",
    "    plt.ylabel(metric)\n",
    "    plt.legend([metric, f'val_{metric}'])\n",
    "    plt.show()\n",
    "    \n",
    "plot_graphs(history, \"accuracy\")\n",
    "plot_graphs(history, \"loss\")"
   ]
  },
  {
   "cell_type": "markdown",
   "id": "daebf985",
   "metadata": {},
   "source": [
    "**If your model passes the previously mentioned thresholds be sure to save your notebook and submit for grading before jumping onto the next section.**"
   ]
  },
  {
   "cell_type": "markdown",
   "id": "41c69b1a",
   "metadata": {},
   "source": [
    "## Optional Exercise - Visualizing 3D Vectors\n",
    "\n",
    "As you saw on the lecture you can visualize the vectors associated with each word in the training set in a 3D space.\n",
    "\n",
    "For this run the following cells and visit [Tensorflow's Embedding Projector](https://projector.tensorflow.org/)."
   ]
  },
  {
   "cell_type": "code",
   "execution_count": 47,
   "id": "b95d245f",
   "metadata": {
    "id": "OhnFA_TDXrih"
   },
   "outputs": [
    {
     "name": "stdout",
     "output_type": "stream",
     "text": [
      "Weights of embedding layer have shape: (1000, 16)\n"
     ]
    }
   ],
   "source": [
    "# Reverse word index\n",
    "reverse_word_index = dict([(value, key) for (key, value) in word_index.items()])\n",
    "\n",
    "# Save the embedding layer\n",
    "e = model.layers[0]\n",
    "\n",
    "# Save the weights of the embedding layer\n",
    "weights = e.get_weights()[0]\n",
    "print(f\"Weights of embedding layer have shape: {weights.shape}\")"
   ]
  },
  {
   "cell_type": "markdown",
   "id": "59829d18",
   "metadata": {},
   "source": [
    "***Expected Output:***\n",
    "\n",
    "```\n",
    "Weights of embedding layer have shape: (1000, 16) \n",
    "\n",
    "The above is true if global variables are not modified. \n",
    "Notice that this shape will always be (NUM_WORDS, EMBEDDING_DIM).\n",
    "\n",
    "```"
   ]
  },
  {
   "cell_type": "markdown",
   "id": "eb987604",
   "metadata": {},
   "source": [
    "Now run the following cell to generate the `vecs.tsv` and `meta.tsv` files that you will upload to the embedding projector."
   ]
  },
  {
   "cell_type": "code",
   "execution_count": 48,
   "id": "7450751a",
   "metadata": {
    "id": "_POzcWWAXudL"
   },
   "outputs": [],
   "source": [
    "# Generate files for embedding visualization\n",
    "out_v = io.open('vecs.tsv', 'w', encoding='utf-8')\n",
    "out_m = io.open('meta.tsv', 'w', encoding='utf-8')\n",
    "for word_num in range(1, NUM_WORDS):\n",
    "    word = reverse_word_index[word_num]\n",
    "    embeddings = weights[word_num]\n",
    "    out_m.write(word + \"\\n\")\n",
    "    out_v.write('\\t'.join([str(x) for x in embeddings]) + \"\\n\")\n",
    "out_v.close()\n",
    "out_m.close()"
   ]
  },
  {
   "cell_type": "markdown",
   "id": "acd48a90",
   "metadata": {},
   "source": [
    "Before downloading these files be sure to having already submitted your assignment.\n",
    "\n",
    "\n",
    "By running the previous cell, these files are placed within your filesystem. To download them, click on the `Jupyter` logo on the upper-left side of the screen. This will take you to the Jupyter filesystem and there you can download the files by selecting them and clicking on the `Download` button."
   ]
  },
  {
   "cell_type": "markdown",
   "id": "6b3fe04e",
   "metadata": {},
   "source": [
    "**Congratulations on finishing this week's assignment!**\n",
    "\n",
    "You have successfully implemented a neural network capable of classifying text and also learned about embeddings and tokenization along the way!\n",
    "\n",
    "**Keep it up!**"
   ]
  }
 ],
 "metadata": {
  "kernelspec": {
   "display_name": "base",
   "language": "python",
   "name": "python3"
  },
  "language_info": {
   "codemirror_mode": {
    "name": "ipython",
    "version": 3
   },
   "file_extension": ".py",
   "mimetype": "text/x-python",
   "name": "python",
   "nbconvert_exporter": "python",
   "pygments_lexer": "ipython3",
   "version": "3.12.3"
  }
 },
 "nbformat": 4,
 "nbformat_minor": 5
}
